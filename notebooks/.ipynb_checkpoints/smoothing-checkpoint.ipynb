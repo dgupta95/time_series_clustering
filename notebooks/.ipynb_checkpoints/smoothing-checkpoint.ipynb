{
 "cells": [
  {
   "cell_type": "code",
   "execution_count": 1,
   "metadata": {},
   "outputs": [],
   "source": [
    "import pandas as pd\n",
    "import numpy as np\n",
    "import matplotlib.pyplot as plt"
   ]
  },
  {
   "cell_type": "code",
   "execution_count": 45,
   "metadata": {},
   "outputs": [
    {
     "data": {
      "text/html": [
       "<div>\n",
       "<style scoped>\n",
       "    .dataframe tbody tr th:only-of-type {\n",
       "        vertical-align: middle;\n",
       "    }\n",
       "\n",
       "    .dataframe tbody tr th {\n",
       "        vertical-align: top;\n",
       "    }\n",
       "\n",
       "    .dataframe thead th {\n",
       "        text-align: right;\n",
       "    }\n",
       "</style>\n",
       "<table border=\"1\" class=\"dataframe\">\n",
       "  <thead>\n",
       "    <tr style=\"text-align: right;\">\n",
       "      <th></th>\n",
       "      <th>LUN-BTC</th>\n",
       "      <th>BCD-BTC</th>\n",
       "      <th>STX-BTC</th>\n",
       "      <th>BNBBEAR-USDT</th>\n",
       "      <th>POA-BNB</th>\n",
       "      <th>BNT-BUSD</th>\n",
       "      <th>POA-BTC</th>\n",
       "      <th>CTXC-BNB</th>\n",
       "      <th>ETC-BUSD</th>\n",
       "      <th>XRPBULL-BUSD</th>\n",
       "      <th>...</th>\n",
       "      <th>ALGO-BUSD</th>\n",
       "      <th>REP-ETH</th>\n",
       "      <th>BCHSV-USDC</th>\n",
       "      <th>BCHABC-USDT</th>\n",
       "      <th>NCASH-ETH</th>\n",
       "      <th>VIBE-BTC</th>\n",
       "      <th>STRAT-USDT</th>\n",
       "      <th>ERD-USDT</th>\n",
       "      <th>DLT-BNB</th>\n",
       "      <th>LOOM-ETH</th>\n",
       "    </tr>\n",
       "  </thead>\n",
       "  <tbody>\n",
       "    <tr>\n",
       "      <th>2017-07-14</th>\n",
       "      <td>NaN</td>\n",
       "      <td>NaN</td>\n",
       "      <td>NaN</td>\n",
       "      <td>NaN</td>\n",
       "      <td>NaN</td>\n",
       "      <td>NaN</td>\n",
       "      <td>NaN</td>\n",
       "      <td>NaN</td>\n",
       "      <td>NaN</td>\n",
       "      <td>NaN</td>\n",
       "      <td>...</td>\n",
       "      <td>NaN</td>\n",
       "      <td>NaN</td>\n",
       "      <td>NaN</td>\n",
       "      <td>NaN</td>\n",
       "      <td>NaN</td>\n",
       "      <td>NaN</td>\n",
       "      <td>NaN</td>\n",
       "      <td>NaN</td>\n",
       "      <td>NaN</td>\n",
       "      <td>NaN</td>\n",
       "    </tr>\n",
       "    <tr>\n",
       "      <th>2017-07-15</th>\n",
       "      <td>NaN</td>\n",
       "      <td>NaN</td>\n",
       "      <td>NaN</td>\n",
       "      <td>NaN</td>\n",
       "      <td>NaN</td>\n",
       "      <td>NaN</td>\n",
       "      <td>NaN</td>\n",
       "      <td>NaN</td>\n",
       "      <td>NaN</td>\n",
       "      <td>NaN</td>\n",
       "      <td>...</td>\n",
       "      <td>NaN</td>\n",
       "      <td>NaN</td>\n",
       "      <td>NaN</td>\n",
       "      <td>NaN</td>\n",
       "      <td>NaN</td>\n",
       "      <td>NaN</td>\n",
       "      <td>NaN</td>\n",
       "      <td>NaN</td>\n",
       "      <td>NaN</td>\n",
       "      <td>NaN</td>\n",
       "    </tr>\n",
       "    <tr>\n",
       "      <th>2017-07-16</th>\n",
       "      <td>NaN</td>\n",
       "      <td>NaN</td>\n",
       "      <td>NaN</td>\n",
       "      <td>NaN</td>\n",
       "      <td>NaN</td>\n",
       "      <td>NaN</td>\n",
       "      <td>NaN</td>\n",
       "      <td>NaN</td>\n",
       "      <td>NaN</td>\n",
       "      <td>NaN</td>\n",
       "      <td>...</td>\n",
       "      <td>NaN</td>\n",
       "      <td>NaN</td>\n",
       "      <td>NaN</td>\n",
       "      <td>NaN</td>\n",
       "      <td>NaN</td>\n",
       "      <td>NaN</td>\n",
       "      <td>NaN</td>\n",
       "      <td>NaN</td>\n",
       "      <td>NaN</td>\n",
       "      <td>NaN</td>\n",
       "    </tr>\n",
       "    <tr>\n",
       "      <th>2017-07-17</th>\n",
       "      <td>NaN</td>\n",
       "      <td>NaN</td>\n",
       "      <td>NaN</td>\n",
       "      <td>NaN</td>\n",
       "      <td>NaN</td>\n",
       "      <td>NaN</td>\n",
       "      <td>NaN</td>\n",
       "      <td>NaN</td>\n",
       "      <td>NaN</td>\n",
       "      <td>NaN</td>\n",
       "      <td>...</td>\n",
       "      <td>NaN</td>\n",
       "      <td>NaN</td>\n",
       "      <td>NaN</td>\n",
       "      <td>NaN</td>\n",
       "      <td>NaN</td>\n",
       "      <td>NaN</td>\n",
       "      <td>NaN</td>\n",
       "      <td>NaN</td>\n",
       "      <td>NaN</td>\n",
       "      <td>NaN</td>\n",
       "    </tr>\n",
       "    <tr>\n",
       "      <th>2017-07-18</th>\n",
       "      <td>NaN</td>\n",
       "      <td>NaN</td>\n",
       "      <td>NaN</td>\n",
       "      <td>NaN</td>\n",
       "      <td>NaN</td>\n",
       "      <td>NaN</td>\n",
       "      <td>NaN</td>\n",
       "      <td>NaN</td>\n",
       "      <td>NaN</td>\n",
       "      <td>NaN</td>\n",
       "      <td>...</td>\n",
       "      <td>NaN</td>\n",
       "      <td>NaN</td>\n",
       "      <td>NaN</td>\n",
       "      <td>NaN</td>\n",
       "      <td>NaN</td>\n",
       "      <td>NaN</td>\n",
       "      <td>NaN</td>\n",
       "      <td>NaN</td>\n",
       "      <td>NaN</td>\n",
       "      <td>NaN</td>\n",
       "    </tr>\n",
       "  </tbody>\n",
       "</table>\n",
       "<p>5 rows × 786 columns</p>\n",
       "</div>"
      ],
      "text/plain": [
       "            LUN-BTC  BCD-BTC  STX-BTC  BNBBEAR-USDT  POA-BNB  BNT-BUSD  \\\n",
       "2017-07-14      NaN      NaN      NaN           NaN      NaN       NaN   \n",
       "2017-07-15      NaN      NaN      NaN           NaN      NaN       NaN   \n",
       "2017-07-16      NaN      NaN      NaN           NaN      NaN       NaN   \n",
       "2017-07-17      NaN      NaN      NaN           NaN      NaN       NaN   \n",
       "2017-07-18      NaN      NaN      NaN           NaN      NaN       NaN   \n",
       "\n",
       "            POA-BTC  CTXC-BNB  ETC-BUSD  XRPBULL-BUSD  ...  ALGO-BUSD  \\\n",
       "2017-07-14      NaN       NaN       NaN           NaN  ...        NaN   \n",
       "2017-07-15      NaN       NaN       NaN           NaN  ...        NaN   \n",
       "2017-07-16      NaN       NaN       NaN           NaN  ...        NaN   \n",
       "2017-07-17      NaN       NaN       NaN           NaN  ...        NaN   \n",
       "2017-07-18      NaN       NaN       NaN           NaN  ...        NaN   \n",
       "\n",
       "            REP-ETH  BCHSV-USDC  BCHABC-USDT  NCASH-ETH  VIBE-BTC  STRAT-USDT  \\\n",
       "2017-07-14      NaN         NaN          NaN        NaN       NaN         NaN   \n",
       "2017-07-15      NaN         NaN          NaN        NaN       NaN         NaN   \n",
       "2017-07-16      NaN         NaN          NaN        NaN       NaN         NaN   \n",
       "2017-07-17      NaN         NaN          NaN        NaN       NaN         NaN   \n",
       "2017-07-18      NaN         NaN          NaN        NaN       NaN         NaN   \n",
       "\n",
       "            ERD-USDT  DLT-BNB  LOOM-ETH  \n",
       "2017-07-14       NaN      NaN       NaN  \n",
       "2017-07-15       NaN      NaN       NaN  \n",
       "2017-07-16       NaN      NaN       NaN  \n",
       "2017-07-17       NaN      NaN       NaN  \n",
       "2017-07-18       NaN      NaN       NaN  \n",
       "\n",
       "[5 rows x 786 columns]"
      ]
     },
     "execution_count": 45,
     "metadata": {},
     "output_type": "execute_result"
    }
   ],
   "source": [
    "df = pd.read_parquet('../data/closing_data.parquet')\n",
    "df.head()"
   ]
  },
  {
   "cell_type": "code",
   "execution_count": 46,
   "metadata": {},
   "outputs": [
    {
     "data": {
      "text/plain": [
       "(1004, 786)"
      ]
     },
     "execution_count": 46,
     "metadata": {},
     "output_type": "execute_result"
    }
   ],
   "source": [
    "df.shape"
   ]
  },
  {
   "cell_type": "code",
   "execution_count": 47,
   "metadata": {},
   "outputs": [],
   "source": [
    "df_smoothed = df.ewm(alpha=.2).mean()"
   ]
  },
  {
   "cell_type": "code",
   "execution_count": 50,
   "metadata": {
    "scrolled": false
   },
   "outputs": [
    {
     "data": {
      "image/png": "[encoded data removed]",
      "text/plain": [
       "<Figure size 720x432 with 1 Axes>"
      ]
     },
     "metadata": {},
     "output_type": "display_data"
    }
   ],
   "source": [
    "for i in df.columns:\n",
    "    plt.figure(figsize=[10,6])\n",
    "    plt.gray()\n",
    "#     plt.title(i)\n",
    "#     plt.plot(df[i], color='black')\n",
    "    plt.plot(df_smoothed[i], color='black')\n",
    "    plt.axis('off')\n",
    "    plt.savefig(f'../images/smoothened/{i}.png')\n",
    "    plt.show()"
   ]
  },
  {
   "cell_type": "code",
   "execution_count": null,
   "metadata": {},
   "outputs": [],
   "source": []
  }
 ],
 "metadata": {
  "kernelspec": {
   "display_name": "Python 3",
   "language": "python",
   "name": "python3"
  },
  "language_info": {
   "codemirror_mode": {
    "name": "ipython",
    "version": 3
   },
   "file_extension": ".py",
   "mimetype": "text/x-python",
   "name": "python",
   "nbconvert_exporter": "python",
   "pygments_lexer": "ipython3",
   "version": "3.7.4"
  }
 },
 "nbformat": 4,
 "nbformat_minor": 2
}
