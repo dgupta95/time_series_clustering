{
 "cells": [
  {
   "cell_type": "markdown",
   "metadata": {},
   "source": [
    "# Error, trend, and seasonality (ETS) decomposition\n",
    "\n",
    "The decomposition of a time series attempts to isolate individual components such as error, trend, and seasonality (ETS)\n",
    "\n",
    "Statsmodels provides a seasonal decomposition tool we can use to separate out the different components. This lets us see quickly and visually what each component contributes to the overall behavior.\n",
    "\n",
    "Apply an <strong>additive model</strong> when it seems that the trend is more linear and the seasonality and trend components seem to be constant over time (e.g. linear grow, every year your account increases by 10k). \n",
    "\n",
    "A <strong>multiplicative model</strong> is more appropriate when we are increasing (or decreasing) at a non-linear rate (e.g. each year you double your account balance)."
   ]
  },
  {
   "cell_type": "code",
   "execution_count": 3,
   "metadata": {},
   "outputs": [],
   "source": [
    "import pandas as pd\n",
    "import numpy as np\n",
    "import matplotlib.pyplot as plt\n",
    "from glob import glob\n",
    "from sklearn.decomposition import PCA\n",
    "from sklearn.preprocessing import MinMaxScaler\n",
    "\n",
    "from statsmodels.tsa.seasonal import seasonal_decompose"
   ]
  },
  {
   "cell_type": "code",
   "execution_count": 5,
   "metadata": {},
   "outputs": [],
   "source": [
    "df = pd.read_parquet('C:/Users/gabri/Desktop/MADS/Git repos/time_series_clustering/data/closing_data.parquet')"
   ]
  },
  {
   "cell_type": "code",
   "execution_count": 6,
   "metadata": {},
   "outputs": [
    {
     "data": {
      "text/html": [
       "<div>\n",
       "<style scoped>\n",
       "    .dataframe tbody tr th:only-of-type {\n",
       "        vertical-align: middle;\n",
       "    }\n",
       "\n",
       "    .dataframe tbody tr th {\n",
       "        vertical-align: top;\n",
       "    }\n",
       "\n",
       "    .dataframe thead th {\n",
       "        text-align: right;\n",
       "    }\n",
       "</style>\n",
       "<table border=\"1\" class=\"dataframe\">\n",
       "  <thead>\n",
       "    <tr style=\"text-align: right;\">\n",
       "      <th></th>\n",
       "      <th>LUN-BTC</th>\n",
       "      <th>BCD-BTC</th>\n",
       "      <th>STX-BTC</th>\n",
       "      <th>BNBBEAR-USDT</th>\n",
       "      <th>POA-BNB</th>\n",
       "      <th>BNT-BUSD</th>\n",
       "      <th>POA-BTC</th>\n",
       "      <th>CTXC-BNB</th>\n",
       "      <th>ETC-BUSD</th>\n",
       "      <th>XRPBULL-BUSD</th>\n",
       "      <th>...</th>\n",
       "      <th>ALGO-BUSD</th>\n",
       "      <th>REP-ETH</th>\n",
       "      <th>BCHSV-USDC</th>\n",
       "      <th>BCHABC-USDT</th>\n",
       "      <th>NCASH-ETH</th>\n",
       "      <th>VIBE-BTC</th>\n",
       "      <th>STRAT-USDT</th>\n",
       "      <th>ERD-USDT</th>\n",
       "      <th>DLT-BNB</th>\n",
       "      <th>LOOM-ETH</th>\n",
       "    </tr>\n",
       "  </thead>\n",
       "  <tbody>\n",
       "    <tr>\n",
       "      <td>2017-07-14</td>\n",
       "      <td>NaN</td>\n",
       "      <td>NaN</td>\n",
       "      <td>NaN</td>\n",
       "      <td>NaN</td>\n",
       "      <td>NaN</td>\n",
       "      <td>NaN</td>\n",
       "      <td>NaN</td>\n",
       "      <td>NaN</td>\n",
       "      <td>NaN</td>\n",
       "      <td>NaN</td>\n",
       "      <td>...</td>\n",
       "      <td>NaN</td>\n",
       "      <td>NaN</td>\n",
       "      <td>NaN</td>\n",
       "      <td>NaN</td>\n",
       "      <td>NaN</td>\n",
       "      <td>NaN</td>\n",
       "      <td>NaN</td>\n",
       "      <td>NaN</td>\n",
       "      <td>NaN</td>\n",
       "      <td>NaN</td>\n",
       "    </tr>\n",
       "    <tr>\n",
       "      <td>2017-07-15</td>\n",
       "      <td>NaN</td>\n",
       "      <td>NaN</td>\n",
       "      <td>NaN</td>\n",
       "      <td>NaN</td>\n",
       "      <td>NaN</td>\n",
       "      <td>NaN</td>\n",
       "      <td>NaN</td>\n",
       "      <td>NaN</td>\n",
       "      <td>NaN</td>\n",
       "      <td>NaN</td>\n",
       "      <td>...</td>\n",
       "      <td>NaN</td>\n",
       "      <td>NaN</td>\n",
       "      <td>NaN</td>\n",
       "      <td>NaN</td>\n",
       "      <td>NaN</td>\n",
       "      <td>NaN</td>\n",
       "      <td>NaN</td>\n",
       "      <td>NaN</td>\n",
       "      <td>NaN</td>\n",
       "      <td>NaN</td>\n",
       "    </tr>\n",
       "    <tr>\n",
       "      <td>2017-07-16</td>\n",
       "      <td>NaN</td>\n",
       "      <td>NaN</td>\n",
       "      <td>NaN</td>\n",
       "      <td>NaN</td>\n",
       "      <td>NaN</td>\n",
       "      <td>NaN</td>\n",
       "      <td>NaN</td>\n",
       "      <td>NaN</td>\n",
       "      <td>NaN</td>\n",
       "      <td>NaN</td>\n",
       "      <td>...</td>\n",
       "      <td>NaN</td>\n",
       "      <td>NaN</td>\n",
       "      <td>NaN</td>\n",
       "      <td>NaN</td>\n",
       "      <td>NaN</td>\n",
       "      <td>NaN</td>\n",
       "      <td>NaN</td>\n",
       "      <td>NaN</td>\n",
       "      <td>NaN</td>\n",
       "      <td>NaN</td>\n",
       "    </tr>\n",
       "    <tr>\n",
       "      <td>2017-07-17</td>\n",
       "      <td>NaN</td>\n",
       "      <td>NaN</td>\n",
       "      <td>NaN</td>\n",
       "      <td>NaN</td>\n",
       "      <td>NaN</td>\n",
       "      <td>NaN</td>\n",
       "      <td>NaN</td>\n",
       "      <td>NaN</td>\n",
       "      <td>NaN</td>\n",
       "      <td>NaN</td>\n",
       "      <td>...</td>\n",
       "      <td>NaN</td>\n",
       "      <td>NaN</td>\n",
       "      <td>NaN</td>\n",
       "      <td>NaN</td>\n",
       "      <td>NaN</td>\n",
       "      <td>NaN</td>\n",
       "      <td>NaN</td>\n",
       "      <td>NaN</td>\n",
       "      <td>NaN</td>\n",
       "      <td>NaN</td>\n",
       "    </tr>\n",
       "    <tr>\n",
       "      <td>2017-07-18</td>\n",
       "      <td>NaN</td>\n",
       "      <td>NaN</td>\n",
       "      <td>NaN</td>\n",
       "      <td>NaN</td>\n",
       "      <td>NaN</td>\n",
       "      <td>NaN</td>\n",
       "      <td>NaN</td>\n",
       "      <td>NaN</td>\n",
       "      <td>NaN</td>\n",
       "      <td>NaN</td>\n",
       "      <td>...</td>\n",
       "      <td>NaN</td>\n",
       "      <td>NaN</td>\n",
       "      <td>NaN</td>\n",
       "      <td>NaN</td>\n",
       "      <td>NaN</td>\n",
       "      <td>NaN</td>\n",
       "      <td>NaN</td>\n",
       "      <td>NaN</td>\n",
       "      <td>NaN</td>\n",
       "      <td>NaN</td>\n",
       "    </tr>\n",
       "  </tbody>\n",
       "</table>\n",
       "<p>5 rows × 786 columns</p>\n",
       "</div>"
      ],
      "text/plain": [
       "            LUN-BTC  BCD-BTC  STX-BTC  BNBBEAR-USDT  POA-BNB  BNT-BUSD  \\\n",
       "2017-07-14      NaN      NaN      NaN           NaN      NaN       NaN   \n",
       "2017-07-15      NaN      NaN      NaN           NaN      NaN       NaN   \n",
       "2017-07-16      NaN      NaN      NaN           NaN      NaN       NaN   \n",
       "2017-07-17      NaN      NaN      NaN           NaN      NaN       NaN   \n",
       "2017-07-18      NaN      NaN      NaN           NaN      NaN       NaN   \n",
       "\n",
       "            POA-BTC  CTXC-BNB  ETC-BUSD  XRPBULL-BUSD  ...  ALGO-BUSD  \\\n",
       "2017-07-14      NaN       NaN       NaN           NaN  ...        NaN   \n",
       "2017-07-15      NaN       NaN       NaN           NaN  ...        NaN   \n",
       "2017-07-16      NaN       NaN       NaN           NaN  ...        NaN   \n",
       "2017-07-17      NaN       NaN       NaN           NaN  ...        NaN   \n",
       "2017-07-18      NaN       NaN       NaN           NaN  ...        NaN   \n",
       "\n",
       "            REP-ETH  BCHSV-USDC  BCHABC-USDT  NCASH-ETH  VIBE-BTC  STRAT-USDT  \\\n",
       "2017-07-14      NaN         NaN          NaN        NaN       NaN         NaN   \n",
       "2017-07-15      NaN         NaN          NaN        NaN       NaN         NaN   \n",
       "2017-07-16      NaN         NaN          NaN        NaN       NaN         NaN   \n",
       "2017-07-17      NaN         NaN          NaN        NaN       NaN         NaN   \n",
       "2017-07-18      NaN         NaN          NaN        NaN       NaN         NaN   \n",
       "\n",
       "            ERD-USDT  DLT-BNB  LOOM-ETH  \n",
       "2017-07-14       NaN      NaN       NaN  \n",
       "2017-07-15       NaN      NaN       NaN  \n",
       "2017-07-16       NaN      NaN       NaN  \n",
       "2017-07-17       NaN      NaN       NaN  \n",
       "2017-07-18       NaN      NaN       NaN  \n",
       "\n",
       "[5 rows x 786 columns]"
      ]
     },
     "execution_count": 6,
     "metadata": {},
     "output_type": "execute_result"
    }
   ],
   "source": [
    "df.head()"
   ]
  },
  {
   "cell_type": "code",
   "execution_count": 7,
   "metadata": {},
   "outputs": [
    {
     "data": {
      "image/png": "[encoded data removed]",
      "text/plain": [
       "<Figure size 432x288 with 4 Axes>"
      ]
     },
     "metadata": {
      "needs_background": "light"
     },
     "output_type": "display_data"
    }
   ],
   "source": [
    "result = seasonal_decompose(df['LUN-BTC'].dropna(), model='multiplicative') \n",
    "result.plot();"
   ]
  },
  {
   "cell_type": "code",
   "execution_count": 8,
   "metadata": {},
   "outputs": [
    {
     "data": {
      "text/plain": [
       "2017-12-28         NaN\n",
       "2017-12-29         NaN\n",
       "2017-12-30         NaN\n",
       "2017-12-31    0.001542\n",
       "2018-01-01    0.001599\n",
       "                ...   \n",
       "2020-04-08    0.000091\n",
       "2020-04-09    0.000091\n",
       "2020-04-10         NaN\n",
       "2020-04-11         NaN\n",
       "2020-04-12         NaN\n",
       "Name: LUN-BTC, Length: 837, dtype: float64"
      ]
     },
     "execution_count": 8,
     "metadata": {},
     "output_type": "execute_result"
    }
   ],
   "source": [
    "result.trend"
   ]
  },
  {
   "cell_type": "code",
   "execution_count": 9,
   "metadata": {},
   "outputs": [
    {
     "data": {
      "text/plain": [
       "2017-12-28    0.993825\n",
       "2017-12-29    0.990929\n",
       "2017-12-30    1.006337\n",
       "2017-12-31    1.006245\n",
       "2018-01-01    1.001910\n",
       "                ...   \n",
       "2020-04-08    1.001873\n",
       "2020-04-09    0.993825\n",
       "2020-04-10    0.990929\n",
       "2020-04-11    1.006337\n",
       "2020-04-12    1.006245\n",
       "Name: LUN-BTC, Length: 837, dtype: float64"
      ]
     },
     "execution_count": 9,
     "metadata": {},
     "output_type": "execute_result"
    }
   ],
   "source": [
    "result.seasonal"
   ]
  },
  {
   "cell_type": "code",
   "execution_count": 10,
   "metadata": {},
   "outputs": [
    {
     "data": {
      "text/plain": [
       "2017-12-28         NaN\n",
       "2017-12-29         NaN\n",
       "2017-12-30         NaN\n",
       "2017-12-31    1.071323\n",
       "2018-01-01    1.105252\n",
       "                ...   \n",
       "2020-04-08    1.005734\n",
       "2020-04-09    1.031216\n",
       "2020-04-10         NaN\n",
       "2020-04-11         NaN\n",
       "2020-04-12         NaN\n",
       "Name: LUN-BTC, Length: 837, dtype: float64"
      ]
     },
     "execution_count": 10,
     "metadata": {},
     "output_type": "execute_result"
    }
   ],
   "source": [
    "result.resid"
   ]
  },
  {
   "cell_type": "code",
   "execution_count": 16,
   "metadata": {},
   "outputs": [],
   "source": [
    "decomposed = {}\n",
    "for col in df.columns:\n",
    "    try:\n",
    "        decomposed[col] = seasonal_decompose(df[col].dropna(), model='multiplicative') \n",
    "    except:\n",
    "        pass"
   ]
  },
  {
   "cell_type": "code",
   "execution_count": 20,
   "metadata": {},
   "outputs": [
    {
     "data": {
      "text/plain": [
       "2017-12-28         NaN\n",
       "2017-12-29         NaN\n",
       "2017-12-30         NaN\n",
       "2017-12-31    0.001542\n",
       "2018-01-01    0.001599\n",
       "                ...   \n",
       "2020-04-08    0.000091\n",
       "2020-04-09    0.000091\n",
       "2020-04-10         NaN\n",
       "2020-04-11         NaN\n",
       "2020-04-12         NaN\n",
       "Name: LUN-BTC, Length: 837, dtype: float64"
      ]
     },
     "execution_count": 20,
     "metadata": {},
     "output_type": "execute_result"
    }
   ],
   "source": [
    "decomposed['LUN-BTC'].trend"
   ]
  },
  {
   "cell_type": "code",
   "execution_count": null,
   "metadata": {},
   "outputs": [],
   "source": [
    "# now we can use these components to cluster each of the time series. \n",
    "# eg: those with higher/lower residual variance, with positive or negative trends, "
   ]
  },
  {
   "cell_type": "code",
   "execution_count": 21,
   "metadata": {},
   "outputs": [
    {
     "data": {
      "text/plain": [
       "pandas.core.series.Series"
      ]
     },
     "execution_count": 21,
     "metadata": {},
     "output_type": "execute_result"
    }
   ],
   "source": [
    "type(decomposed['LUN-BTC'].resid) #it's a pandas series"
   ]
  },
  {
   "cell_type": "code",
   "execution_count": null,
   "metadata": {},
   "outputs": [],
   "source": []
  }
 ],
 "metadata": {
  "kernelspec": {
   "display_name": "Python 3",
   "language": "python",
   "name": "python3"
  },
  "language_info": {
   "codemirror_mode": {
    "name": "ipython",
    "version": 3
   },
   "file_extension": ".py",
   "mimetype": "text/x-python",
   "name": "python",
   "nbconvert_exporter": "python",
   "pygments_lexer": "ipython3",
   "version": "3.7.4"
  }
 },
 "nbformat": 4,
 "nbformat_minor": 4
}
